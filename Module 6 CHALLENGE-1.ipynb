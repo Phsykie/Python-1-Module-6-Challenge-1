{
 "cells": [
  {
   "cell_type": "markdown",
   "metadata": {},
   "source": [
    "Create a program where the user can play a game of rock, paper, scissors against a computer. Set a play choice (rock, paper, or scissors) for the computer player and during the program, request for the user to input their play choice.\n",
    "\n",
    "The rules in Rock, Paper, Scissors are:\n",
    "\n",
    "    Rock beats scissors.\n",
    "\n",
    "    Scissors beats paper.\n",
    "\n",
    "    Paper beats rock.\n",
    "\n",
    "If the user wins, then display \"You win!\" \n",
    "If they lose against the computer, then display \"You lose.\" \n",
    "If the computer and the user have the same play choice, display \"It's a draw.\"\n",
    "\n",
    "BONUS: Randomize the play choice for the computer (hint: Python has a library called random). Also ask the user if they would like to play again. If they do, start the game again but if not, thank the user for playing the game."
   ]
  },
  {
   "cell_type": "code",
   "execution_count": 16,
   "metadata": {},
   "outputs": [
    {
     "name": "stdout",
     "output_type": "stream",
     "text": [
      "☻▬▬☻☻▬▬☻☻▬▬☻☻▬▬☻☻▬▬☻\n",
      "Rules are : ROCK beats scissors. PAPER beats rock. SCISSORS beats paper.\n",
      "Enter a choice 'Rock' or 'Paper'or 'Scissors' to play the game...or 'Q' to end\n",
      " ◘fdsafd\n",
      "Your Choice : fdsafd! Computer Choice : paper\n",
      " NOOOOOO! enter either 'rock', 'paper', or 'scissors\n",
      "☻▬▬☻☻▬▬☻☻▬▬☻☻▬▬☻☻▬▬☻\n",
      "Rules are : ROCK beats scissors. PAPER beats rock. SCISSORS beats paper.\n",
      "Enter a choice 'Rock' or 'Paper'or 'Scissors' to play the game...or 'Q' to end\n",
      " ◘q\n",
      "Your Choice : q! Computer Choice : scissors\n",
      "\t\t ◘you ROCK! Bye◘\n"
     ]
    }
   ],
   "source": [
    "import random as rand\n",
    "\n",
    "while True:\n",
    "    print(\"☻▬▬☻\" *5)\n",
    "    print (\"Rules are : ROCK beats scissors. PAPER beats rock. SCISSORS beats paper.\")\n",
    "    user_choice = input(\"Enter a choice 'Rock' or 'Paper'or 'Scissors' to play the game...or 'Q' to end\\n ◘\")\n",
    "    choices = [\"rock\", \"paper\", \"scissors\"]\n",
    "    computer_choice = rand.choice(choices)  #allows the computer to select choice at random from choices variable\n",
    "\n",
    "    print(f\"Your Choice : {user_choice}! Computer Choice : {computer_choice}\")\n",
    "    if user_choice.lower() == 'q':\n",
    "        print (\"\\t\\t ◘you ROCK! Bye◘\")\n",
    "        break\n",
    "    \n",
    "    elif user_choice.lower() == computer_choice:\n",
    "        print (f\" two {user_choice} == TIE\")\n",
    "    elif user_choice.lower() == \"paper\":\n",
    "        if computer_choice  == \"rock\":\n",
    "            print (f\"\\t\\tYOU WIN!☺☻☺\")\n",
    "        else:\n",
    "            print (\"\\t\\tYOU LOSE!!scissors beats paper\")\n",
    "    elif user_choice.lower() == \"scissors\":\n",
    "        if computer_choice == \"paper\":\n",
    "            print(\"\\t\\tYOU WIN!☺☻☺\")\n",
    "        else: \n",
    "            print (\"\\t\\tYOU LOSE! rock beats scissors\")\n",
    "    elif user_choice.lower() == \"rock\":\n",
    "        if computer_choice == \"scissors\":\n",
    "            print (\"\\t\\tYOU WIN!☺☻☺\")\n",
    "        else :\n",
    "            print (\"\\t\\tYOU LOST! paper beats rock\")\n",
    "    else :\n",
    "        print(\" NOOOOOO! enter either 'rock', 'paper', or 'scissors\")\n",
    "    \n",
    "               \n",
    "    \n",
    "           \n"
   ]
  },
  {
   "cell_type": "raw",
   "metadata": {},
   "source": []
  }
 ],
 "metadata": {
  "kernelspec": {
   "display_name": "Python 3",
   "language": "python",
   "name": "python3"
  },
  "language_info": {
   "codemirror_mode": {
    "name": "ipython",
    "version": 3
   },
   "file_extension": ".py",
   "mimetype": "text/x-python",
   "name": "python",
   "nbconvert_exporter": "python",
   "pygments_lexer": "ipython3",
   "version": "3.8.5"
  }
 },
 "nbformat": 4,
 "nbformat_minor": 4
}
